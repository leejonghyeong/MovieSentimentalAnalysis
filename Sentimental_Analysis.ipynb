{
  "nbformat": 4,
  "nbformat_minor": 0,
  "metadata": {
    "colab": {
      "name": "Sentimental Analysis.ipynb",
      "provenance": [],
      "authorship_tag": "ABX9TyOVPwAlQWJiVzYzXmMVWtrP"
    },
    "kernelspec": {
      "name": "python3",
      "display_name": "Python 3"
    },
    "language_info": {
      "name": "python"
    }
  },
  "cells": [
    {
      "cell_type": "code",
      "execution_count": 6,
      "metadata": {
        "colab": {
          "base_uri": "https://localhost:8080/"
        },
        "id": "h-bJAOifeOts",
        "outputId": "2312432b-7474-4212-c4f2-ff71991fa43e"
      },
      "outputs": [
        {
          "output_type": "stream",
          "name": "stdout",
          "text": [
            "Mounted at /content/drive\n",
            "/content/drive/MyDrive/Colab Notebooks/MovieSentimentalAnalysis\n"
          ]
        }
      ],
      "source": [
        "import os, sys\n",
        "from google.colab import drive\n",
        "drive.mount('/content/drive')\n",
        "\n",
        "my_path = '/content/notebooks'\n",
        "# Colab Notebooks 안에 my_env 폴더에 패키지 저장\n",
        "os.symlink('/content/drive/My Drive/Colab Notebooks/my_env', my_path)\n",
        "sys.path.insert(0, my_path)\n",
        "\n",
        "%cd /content/drive/MyDrive/Colab\\ Notebooks/MovieSentimentalAnalysis/"
      ]
    },
    {
      "cell_type": "code",
      "source": [
        "pip install konlpy"
      ],
      "metadata": {
        "colab": {
          "base_uri": "https://localhost:8080/"
        },
        "id": "pcqpzpHG067H",
        "outputId": "28afc29a-d18c-40c3-bf82-cc2dc9ffd45c"
      },
      "execution_count": 7,
      "outputs": [
        {
          "output_type": "stream",
          "name": "stdout",
          "text": [
            "Collecting konlpy\n",
            "  Downloading konlpy-0.6.0-py2.py3-none-any.whl (19.4 MB)\n",
            "\u001b[K     |████████████████████████████████| 19.4 MB 1.2 MB/s \n",
            "\u001b[?25hRequirement already satisfied: lxml>=4.1.0 in /usr/local/lib/python3.7/dist-packages (from konlpy) (4.2.6)\n",
            "Collecting JPype1>=0.7.0\n",
            "  Downloading JPype1-1.3.0-cp37-cp37m-manylinux_2_5_x86_64.manylinux1_x86_64.whl (448 kB)\n",
            "\u001b[K     |████████████████████████████████| 448 kB 49.9 MB/s \n",
            "\u001b[?25hRequirement already satisfied: numpy>=1.6 in /usr/local/lib/python3.7/dist-packages (from konlpy) (1.19.5)\n",
            "Requirement already satisfied: typing-extensions in /usr/local/lib/python3.7/dist-packages (from JPype1>=0.7.0->konlpy) (3.7.4.3)\n",
            "Installing collected packages: JPype1, konlpy\n",
            "Successfully installed JPype1-1.3.0 konlpy-0.6.0\n"
          ]
        }
      ]
    },
    {
      "cell_type": "code",
      "source": [
        "import pandas as pd\n",
        "import numpy as np\n",
        "import re\n",
        "import warnings\n",
        "warnings.filterwarnings(action='ignore')\n",
        "import nltk\n",
        "#nltk.download('all') # 처음 실행 시 주석을 제거하고 실행해주세요!\n",
        "from sklearn.feature_extraction.text import TfidfVectorizer\n",
        "from sklearn.linear_model import LogisticRegression\n",
        "from sklearn.model_selection import train_test_split\n",
        "from nltk.tokenize import sent_tokenize, word_tokenize\n",
        "from konlpy.tag import Okt "
      ],
      "metadata": {
        "id": "z0xsguACePrq"
      },
      "execution_count": 8,
      "outputs": []
    },
    {
      "cell_type": "code",
      "source": [
        "data = pd.read_csv('dataset/train.csv') # train 데이터 불러오기\n",
        "data.head() # 데이터 확인하기"
      ],
      "metadata": {
        "colab": {
          "base_uri": "https://localhost:8080/",
          "height": 206
        },
        "id": "_HNNTPMZeTBm",
        "outputId": "811393d7-19cf-49d8-eca1-b5c8ebdef2d0"
      },
      "execution_count": 9,
      "outputs": [
        {
          "output_type": "execute_result",
          "data": {
            "text/html": [
              "\n",
              "  <div id=\"df-c70d35b9-0d26-4c28-ac5d-a1010f6dbf66\">\n",
              "    <div class=\"colab-df-container\">\n",
              "      <div>\n",
              "<style scoped>\n",
              "    .dataframe tbody tr th:only-of-type {\n",
              "        vertical-align: middle;\n",
              "    }\n",
              "\n",
              "    .dataframe tbody tr th {\n",
              "        vertical-align: top;\n",
              "    }\n",
              "\n",
              "    .dataframe thead th {\n",
              "        text-align: right;\n",
              "    }\n",
              "</style>\n",
              "<table border=\"1\" class=\"dataframe\">\n",
              "  <thead>\n",
              "    <tr style=\"text-align: right;\">\n",
              "      <th></th>\n",
              "      <th>id</th>\n",
              "      <th>document</th>\n",
              "      <th>label</th>\n",
              "    </tr>\n",
              "  </thead>\n",
              "  <tbody>\n",
              "    <tr>\n",
              "      <th>0</th>\n",
              "      <td>1</td>\n",
              "      <td>영상이나 음악이 이쁘다 해도 미화시킨 불륜일뿐</td>\n",
              "      <td>0</td>\n",
              "    </tr>\n",
              "    <tr>\n",
              "      <th>1</th>\n",
              "      <td>2</td>\n",
              "      <td>히치콕이 이 영화를 봤다면 분명 박수를 쳤을듯...</td>\n",
              "      <td>1</td>\n",
              "    </tr>\n",
              "    <tr>\n",
              "      <th>2</th>\n",
              "      <td>3</td>\n",
              "      <td>괜찮은 음악영화가 또 나왔군요!!! 따뜻한 겨울이 될 것 같아요~</td>\n",
              "      <td>1</td>\n",
              "    </tr>\n",
              "    <tr>\n",
              "      <th>3</th>\n",
              "      <td>4</td>\n",
              "      <td>아무래도 20년도지난작품이라 지금보기는너무유치하다</td>\n",
              "      <td>0</td>\n",
              "    </tr>\n",
              "    <tr>\n",
              "      <th>4</th>\n",
              "      <td>5</td>\n",
              "      <td>지금까지의 영화들이 그랬듯. 이 영화역시 일본에 대한 미화는 여전하다.</td>\n",
              "      <td>0</td>\n",
              "    </tr>\n",
              "  </tbody>\n",
              "</table>\n",
              "</div>\n",
              "      <button class=\"colab-df-convert\" onclick=\"convertToInteractive('df-c70d35b9-0d26-4c28-ac5d-a1010f6dbf66')\"\n",
              "              title=\"Convert this dataframe to an interactive table.\"\n",
              "              style=\"display:none;\">\n",
              "        \n",
              "  <svg xmlns=\"http://www.w3.org/2000/svg\" height=\"24px\"viewBox=\"0 0 24 24\"\n",
              "       width=\"24px\">\n",
              "    <path d=\"M0 0h24v24H0V0z\" fill=\"none\"/>\n",
              "    <path d=\"M18.56 5.44l.94 2.06.94-2.06 2.06-.94-2.06-.94-.94-2.06-.94 2.06-2.06.94zm-11 1L8.5 8.5l.94-2.06 2.06-.94-2.06-.94L8.5 2.5l-.94 2.06-2.06.94zm10 10l.94 2.06.94-2.06 2.06-.94-2.06-.94-.94-2.06-.94 2.06-2.06.94z\"/><path d=\"M17.41 7.96l-1.37-1.37c-.4-.4-.92-.59-1.43-.59-.52 0-1.04.2-1.43.59L10.3 9.45l-7.72 7.72c-.78.78-.78 2.05 0 2.83L4 21.41c.39.39.9.59 1.41.59.51 0 1.02-.2 1.41-.59l7.78-7.78 2.81-2.81c.8-.78.8-2.07 0-2.86zM5.41 20L4 18.59l7.72-7.72 1.47 1.35L5.41 20z\"/>\n",
              "  </svg>\n",
              "      </button>\n",
              "      \n",
              "  <style>\n",
              "    .colab-df-container {\n",
              "      display:flex;\n",
              "      flex-wrap:wrap;\n",
              "      gap: 12px;\n",
              "    }\n",
              "\n",
              "    .colab-df-convert {\n",
              "      background-color: #E8F0FE;\n",
              "      border: none;\n",
              "      border-radius: 50%;\n",
              "      cursor: pointer;\n",
              "      display: none;\n",
              "      fill: #1967D2;\n",
              "      height: 32px;\n",
              "      padding: 0 0 0 0;\n",
              "      width: 32px;\n",
              "    }\n",
              "\n",
              "    .colab-df-convert:hover {\n",
              "      background-color: #E2EBFA;\n",
              "      box-shadow: 0px 1px 2px rgba(60, 64, 67, 0.3), 0px 1px 3px 1px rgba(60, 64, 67, 0.15);\n",
              "      fill: #174EA6;\n",
              "    }\n",
              "\n",
              "    [theme=dark] .colab-df-convert {\n",
              "      background-color: #3B4455;\n",
              "      fill: #D2E3FC;\n",
              "    }\n",
              "\n",
              "    [theme=dark] .colab-df-convert:hover {\n",
              "      background-color: #434B5C;\n",
              "      box-shadow: 0px 1px 3px 1px rgba(0, 0, 0, 0.15);\n",
              "      filter: drop-shadow(0px 1px 2px rgba(0, 0, 0, 0.3));\n",
              "      fill: #FFFFFF;\n",
              "    }\n",
              "  </style>\n",
              "\n",
              "      <script>\n",
              "        const buttonEl =\n",
              "          document.querySelector('#df-c70d35b9-0d26-4c28-ac5d-a1010f6dbf66 button.colab-df-convert');\n",
              "        buttonEl.style.display =\n",
              "          google.colab.kernel.accessAllowed ? 'block' : 'none';\n",
              "\n",
              "        async function convertToInteractive(key) {\n",
              "          const element = document.querySelector('#df-c70d35b9-0d26-4c28-ac5d-a1010f6dbf66');\n",
              "          const dataTable =\n",
              "            await google.colab.kernel.invokeFunction('convertToInteractive',\n",
              "                                                     [key], {});\n",
              "          if (!dataTable) return;\n",
              "\n",
              "          const docLinkHtml = 'Like what you see? Visit the ' +\n",
              "            '<a target=\"_blank\" href=https://colab.research.google.com/notebooks/data_table.ipynb>data table notebook</a>'\n",
              "            + ' to learn more about interactive tables.';\n",
              "          element.innerHTML = '';\n",
              "          dataTable['output_type'] = 'display_data';\n",
              "          await google.colab.output.renderOutput(dataTable, element);\n",
              "          const docLink = document.createElement('div');\n",
              "          docLink.innerHTML = docLinkHtml;\n",
              "          element.appendChild(docLink);\n",
              "        }\n",
              "      </script>\n",
              "    </div>\n",
              "  </div>\n",
              "  "
            ],
            "text/plain": [
              "   id                                 document  label\n",
              "0   1                영상이나 음악이 이쁘다 해도 미화시킨 불륜일뿐      0\n",
              "1   2             히치콕이 이 영화를 봤다면 분명 박수를 쳤을듯...      1\n",
              "2   3     괜찮은 음악영화가 또 나왔군요!!! 따뜻한 겨울이 될 것 같아요~      1\n",
              "3   4              아무래도 20년도지난작품이라 지금보기는너무유치하다      0\n",
              "4   5  지금까지의 영화들이 그랬듯. 이 영화역시 일본에 대한 미화는 여전하다.      0"
            ]
          },
          "metadata": {},
          "execution_count": 9
        }
      ]
    },
    {
      "cell_type": "code",
      "source": [
        "data.isna().sum() # 결측치 확인"
      ],
      "metadata": {
        "colab": {
          "base_uri": "https://localhost:8080/"
        },
        "id": "-O_-vB0fetSf",
        "outputId": "5d8d9c9c-9e35-4eb2-f253-328794a8d35e"
      },
      "execution_count": 11,
      "outputs": [
        {
          "output_type": "execute_result",
          "data": {
            "text/plain": [
              "id          0\n",
              "document    0\n",
              "label       0\n",
              "dtype: int64"
            ]
          },
          "metadata": {},
          "execution_count": 11
        }
      ]
    },
    {
      "cell_type": "code",
      "source": [
        "train, val = train_test_split(data)\n",
        "train.reset_index(inplace=True) # 전처리 과정에서 데이터가 뒤섞이지 않도록 인덱스를 초기화해주었습니다.\n",
        "val.reset_index(inplace=True)"
      ],
      "metadata": {
        "id": "MSEby-CieuUA"
      },
      "execution_count": 12,
      "outputs": []
    },
    {
      "cell_type": "code",
      "source": [
        "text = \"Hello, nice to meet you. What's your name? Have a nice day! See you soon.\" # 예시 문장을 정의합니다.\n",
        "print('문장 토큰화 결과 ==>',sent_tokenize(text))\n",
        "print('단어 토큰화 결과 ==>', word_tokenize(text))"
      ],
      "metadata": {
        "colab": {
          "base_uri": "https://localhost:8080/"
        },
        "id": "z3BRVWy4fGi2",
        "outputId": "004a1cee-3bdd-42d2-b6f6-36dbfbb25fd2"
      },
      "execution_count": null,
      "outputs": [
        {
          "output_type": "stream",
          "name": "stdout",
          "text": [
            "문장 토큰화 결과 ==> ['Hello, nice to meet you.', \"What's your name?\", 'Have a nice day!', 'See you soon.']\n",
            "단어 토큰화 결과 ==> ['Hello', ',', 'nice', 'to', 'meet', 'you', '.', 'What', \"'s\", 'your', 'name', '?', 'Have', 'a', 'nice', 'day', '!', 'See', 'you', 'soon', '.']\n"
          ]
        }
      ]
    },
    {
      "cell_type": "code",
      "source": [
        "#학습 셋 전처리\n",
        "data['preprocessed'] = data['document'].str.replace(\"[^ㄱ-ㅎㅏ-ㅣ가-힣0-9 ]\",\"\") # 한글과 공백을 제외하고 모두 제거\n",
        "\n",
        "# 인스턴스 할당\n",
        "okt = Okt()\n",
        "spacing = Spacing()\n",
        "\n",
        "spaced = []\n",
        "for sentence in data['preprocessed']:\n",
        "    sentence = spacing(sentence)\n",
        "    spaced.append(sentence)\n",
        "data['spaced'] = pd.DataFrame(spaced)\n",
        "\n",
        "tokenized = [] # 데이터프레임의 한 컬럼으로 추가할 리스트\n",
        "for sentence in data['spaced']: # 전처리된 리뷰들을 하나씩 꺼내옵니다\n",
        "    tokens = okt.morphs(sentence, stem = True) # 형태소 분석 (stem = True로 설정해 어간 추출을 해주었습니다)\n",
        "    tokenize = \" \".join(tokens) # tokens라는 리스트 안의 형태소들을 띄어쓰기로 분리된 하나의 문자열로 join시켜줍니다.\n",
        "    tokenized.append(tokenize) # 형태소 단위로 띄어쓰기된 문자열을 최종 리스트에 추가해줍니다\n",
        "data[\"tokenized_stem\"] = pd.DataFrame(tokenized) # 리스트를 데이터프레임으로 변환해 tokenized_stem라는 컬럼명으로 추가해줍니다.\n"
      ],
      "metadata": {
        "id": "8g0RvPlTyy09",
        "colab": {
          "base_uri": "https://localhost:8080/",
          "height": 107
        },
        "outputId": "0f9c1016-a0b2-473f-e352-082976f48b8a"
      },
      "execution_count": 23,
      "outputs": [
        {
          "output_type": "execute_result",
          "data": {
            "application/vnd.google.colaboratory.intrinsic+json": {
              "type": "string"
            },
            "text/plain": [
              "'\\nmain_pos = [] # 데이터프레임의 새 컬럼이 될 리스트\\nfor sentence in data[\\'preprocessed\\']: # 리뷰들을 하나씩 가져옵니다\\n    pos = okt.pos(sentence) # 형태소 분석을 진행하고 해당 리스트를 pos라는 변수로 받습니다\\n    main_words = [word_pos[0] for word_pos in pos if word_pos[1] in (\"Noun\", \"Adverb\", \"Adjective\", \"Verb\")] # 가져오고자 하는 품사에 해당하면 해당 형태소를 main_words 리스트에 추가합니다.\\n    main_words_str = \" \".join(main_words) # main_words 리스트 안의 형태소들을 띄어쓰기로 분리된 하나의 문자열로 join시켜줍니다.\\n    main_pos.append(main_words_str) # 선택한 형태소들로 이루어진 문자열을 최종 리스트에 추가해줍니다\\ndata[\"main_pos\"] = pd.DataFrame(main_pos) # 리스트를 데이터프레임으로 변환해 main_pos라는 컬럼명으로 추가해줍니다.\\n'"
            ]
          },
          "metadata": {},
          "execution_count": 23
        }
      ]
    },
    {
      "cell_type": "code",
      "source": [
        "main_pos = [] # 데이터프레임의 새 컬럼이 될 리스트\n",
        "for sentence in data['spaced']: # 리뷰들을 하나씩 가져옵니다\n",
        "    pos = okt.pos(sentence) # 형태소 분석을 진행하고 해당 리스트를 pos라는 변수로 받습니다\n",
        "    main_words = [word_pos[0] for word_pos in pos if word_pos[1] not in (\"Josa\", \"Number\", \"Foreign\", \"Suffix\")] # 가져오고자 하는 품사에 해당하면 해당 형태소를 main_words 리스트에 추가합니다.\n",
        "    main_words_str = \" \".join(main_words) # main_words 리스트 안의 형태소들을 띄어쓰기로 분리된 하나의 문자열로 join시켜줍니다.\n",
        "    main_pos.append(main_words_str) # 선택한 형태소들로 이루어진 문자열을 최종 리스트에 추가해줍니다\n",
        "data[\"main_pos\"] = pd.DataFrame(main_pos) # 리스트를 데이터프레임으로 변환해 main_pos라는 컬럼명으로 추가해줍니다.\n"
      ],
      "metadata": {
        "id": "GSbom1L-h-Hp"
      },
      "execution_count": 52,
      "outputs": []
    },
    {
      "cell_type": "code",
      "source": [
        "data.head()"
      ],
      "metadata": {
        "colab": {
          "base_uri": "https://localhost:8080/",
          "height": 354
        },
        "id": "F9MZh4FdEE-v",
        "outputId": "000cd9ef-f1b2-4a10-9f3c-3c4c7d522e76"
      },
      "execution_count": 53,
      "outputs": [
        {
          "output_type": "execute_result",
          "data": {
            "text/html": [
              "\n",
              "  <div id=\"df-7c77dfae-1488-4917-9b50-83d78496ae2d\">\n",
              "    <div class=\"colab-df-container\">\n",
              "      <div>\n",
              "<style scoped>\n",
              "    .dataframe tbody tr th:only-of-type {\n",
              "        vertical-align: middle;\n",
              "    }\n",
              "\n",
              "    .dataframe tbody tr th {\n",
              "        vertical-align: top;\n",
              "    }\n",
              "\n",
              "    .dataframe thead th {\n",
              "        text-align: right;\n",
              "    }\n",
              "</style>\n",
              "<table border=\"1\" class=\"dataframe\">\n",
              "  <thead>\n",
              "    <tr style=\"text-align: right;\">\n",
              "      <th></th>\n",
              "      <th>id</th>\n",
              "      <th>document</th>\n",
              "      <th>label</th>\n",
              "      <th>preprocessed</th>\n",
              "      <th>tokenized_stem</th>\n",
              "      <th>spaced</th>\n",
              "      <th>main_pos</th>\n",
              "    </tr>\n",
              "  </thead>\n",
              "  <tbody>\n",
              "    <tr>\n",
              "      <th>0</th>\n",
              "      <td>1</td>\n",
              "      <td>영상이나 음악이 이쁘다 해도 미화시킨 불륜일뿐</td>\n",
              "      <td>0</td>\n",
              "      <td>영상이나 음악이 이쁘다 해도 미화시킨 불륜일뿐</td>\n",
              "      <td>영상 이나 음악 이 이 쁘 다 해도 미화 시키다 불륜 일 뿐</td>\n",
              "      <td>영상이나 음악이 이 쁘다 해도 미화시킨 불륜일뿐</td>\n",
              "      <td>영상 음악 이 쁘 해도 미화 시킨 불륜 일 뿐</td>\n",
              "    </tr>\n",
              "    <tr>\n",
              "      <th>1</th>\n",
              "      <td>2</td>\n",
              "      <td>히치콕이 이 영화를 봤다면 분명 박수를 쳤을듯...</td>\n",
              "      <td>1</td>\n",
              "      <td>히치콕이 이 영화를 봤다면 분명 박수를 쳤을듯</td>\n",
              "      <td>히치콕 이 이 영화 를 보다 분명 박수 를 치다 듯</td>\n",
              "      <td>히치콕이 이 영화를 봤다면 분명 박수를 쳤을 듯</td>\n",
              "      <td>히치콕 이 영화 봤다면 분명 박수 쳤을 듯</td>\n",
              "    </tr>\n",
              "    <tr>\n",
              "      <th>2</th>\n",
              "      <td>3</td>\n",
              "      <td>괜찮은 음악영화가 또 나왔군요!!! 따뜻한 겨울이 될 것 같아요~</td>\n",
              "      <td>1</td>\n",
              "      <td>괜찮은 음악영화가 또 나왔군요 따뜻한 겨울이 될 것 같아요</td>\n",
              "      <td>괜찮다 음악 영화 가 또 나오다 요 따뜻하다 겨울 이 되다 것 같다</td>\n",
              "      <td>괜찮은 음악영화가 또 나왔군 요 따뜻한 겨울이 될 것 같아요</td>\n",
              "      <td>괜찮은 음악 영화 또 나왔군 요 따뜻한 겨울 될 것 같아요</td>\n",
              "    </tr>\n",
              "    <tr>\n",
              "      <th>3</th>\n",
              "      <td>4</td>\n",
              "      <td>아무래도 20년도지난작품이라 지금보기는너무유치하다</td>\n",
              "      <td>0</td>\n",
              "      <td>아무래도 20년도지난작품이라 지금보기는너무유치하다</td>\n",
              "      <td>아무래도 20년 도 지난 작품 이라 지금 보기 는 너무 유치하다</td>\n",
              "      <td>아무래도 20년도 지난 작품이라 지금 보기는 너무 유치하다</td>\n",
              "      <td>아무래도 지난 작품 지금 보기 너무 유치하다</td>\n",
              "    </tr>\n",
              "    <tr>\n",
              "      <th>4</th>\n",
              "      <td>5</td>\n",
              "      <td>지금까지의 영화들이 그랬듯. 이 영화역시 일본에 대한 미화는 여전하다.</td>\n",
              "      <td>0</td>\n",
              "      <td>지금까지의 영화들이 그랬듯 이 영화역시 일본에 대한 미화는 여전하다</td>\n",
              "      <td>지금 까지의 영화 들 이 그렇다 이 영화 역시 일본 에 대한 미화 는 여전하다</td>\n",
              "      <td>지금까지의 영화들이 그랬듯 이 영화 역시 일본에 대한 미화는 여전하다</td>\n",
              "      <td>지금 영화 그랬듯 이 영화 역시 일본 대한 미화 여전하다</td>\n",
              "    </tr>\n",
              "  </tbody>\n",
              "</table>\n",
              "</div>\n",
              "      <button class=\"colab-df-convert\" onclick=\"convertToInteractive('df-7c77dfae-1488-4917-9b50-83d78496ae2d')\"\n",
              "              title=\"Convert this dataframe to an interactive table.\"\n",
              "              style=\"display:none;\">\n",
              "        \n",
              "  <svg xmlns=\"http://www.w3.org/2000/svg\" height=\"24px\"viewBox=\"0 0 24 24\"\n",
              "       width=\"24px\">\n",
              "    <path d=\"M0 0h24v24H0V0z\" fill=\"none\"/>\n",
              "    <path d=\"M18.56 5.44l.94 2.06.94-2.06 2.06-.94-2.06-.94-.94-2.06-.94 2.06-2.06.94zm-11 1L8.5 8.5l.94-2.06 2.06-.94-2.06-.94L8.5 2.5l-.94 2.06-2.06.94zm10 10l.94 2.06.94-2.06 2.06-.94-2.06-.94-.94-2.06-.94 2.06-2.06.94z\"/><path d=\"M17.41 7.96l-1.37-1.37c-.4-.4-.92-.59-1.43-.59-.52 0-1.04.2-1.43.59L10.3 9.45l-7.72 7.72c-.78.78-.78 2.05 0 2.83L4 21.41c.39.39.9.59 1.41.59.51 0 1.02-.2 1.41-.59l7.78-7.78 2.81-2.81c.8-.78.8-2.07 0-2.86zM5.41 20L4 18.59l7.72-7.72 1.47 1.35L5.41 20z\"/>\n",
              "  </svg>\n",
              "      </button>\n",
              "      \n",
              "  <style>\n",
              "    .colab-df-container {\n",
              "      display:flex;\n",
              "      flex-wrap:wrap;\n",
              "      gap: 12px;\n",
              "    }\n",
              "\n",
              "    .colab-df-convert {\n",
              "      background-color: #E8F0FE;\n",
              "      border: none;\n",
              "      border-radius: 50%;\n",
              "      cursor: pointer;\n",
              "      display: none;\n",
              "      fill: #1967D2;\n",
              "      height: 32px;\n",
              "      padding: 0 0 0 0;\n",
              "      width: 32px;\n",
              "    }\n",
              "\n",
              "    .colab-df-convert:hover {\n",
              "      background-color: #E2EBFA;\n",
              "      box-shadow: 0px 1px 2px rgba(60, 64, 67, 0.3), 0px 1px 3px 1px rgba(60, 64, 67, 0.15);\n",
              "      fill: #174EA6;\n",
              "    }\n",
              "\n",
              "    [theme=dark] .colab-df-convert {\n",
              "      background-color: #3B4455;\n",
              "      fill: #D2E3FC;\n",
              "    }\n",
              "\n",
              "    [theme=dark] .colab-df-convert:hover {\n",
              "      background-color: #434B5C;\n",
              "      box-shadow: 0px 1px 3px 1px rgba(0, 0, 0, 0.15);\n",
              "      filter: drop-shadow(0px 1px 2px rgba(0, 0, 0, 0.3));\n",
              "      fill: #FFFFFF;\n",
              "    }\n",
              "  </style>\n",
              "\n",
              "      <script>\n",
              "        const buttonEl =\n",
              "          document.querySelector('#df-7c77dfae-1488-4917-9b50-83d78496ae2d button.colab-df-convert');\n",
              "        buttonEl.style.display =\n",
              "          google.colab.kernel.accessAllowed ? 'block' : 'none';\n",
              "\n",
              "        async function convertToInteractive(key) {\n",
              "          const element = document.querySelector('#df-7c77dfae-1488-4917-9b50-83d78496ae2d');\n",
              "          const dataTable =\n",
              "            await google.colab.kernel.invokeFunction('convertToInteractive',\n",
              "                                                     [key], {});\n",
              "          if (!dataTable) return;\n",
              "\n",
              "          const docLinkHtml = 'Like what you see? Visit the ' +\n",
              "            '<a target=\"_blank\" href=https://colab.research.google.com/notebooks/data_table.ipynb>data table notebook</a>'\n",
              "            + ' to learn more about interactive tables.';\n",
              "          element.innerHTML = '';\n",
              "          dataTable['output_type'] = 'display_data';\n",
              "          await google.colab.output.renderOutput(dataTable, element);\n",
              "          const docLink = document.createElement('div');\n",
              "          docLink.innerHTML = docLinkHtml;\n",
              "          element.appendChild(docLink);\n",
              "        }\n",
              "      </script>\n",
              "    </div>\n",
              "  </div>\n",
              "  "
            ],
            "text/plain": [
              "   id  ...                          main_pos\n",
              "0   1  ...         영상 음악 이 쁘 해도 미화 시킨 불륜 일 뿐\n",
              "1   2  ...           히치콕 이 영화 봤다면 분명 박수 쳤을 듯\n",
              "2   3  ...  괜찮은 음악 영화 또 나왔군 요 따뜻한 겨울 될 것 같아요\n",
              "3   4  ...          아무래도 지난 작품 지금 보기 너무 유치하다\n",
              "4   5  ...   지금 영화 그랬듯 이 영화 역시 일본 대한 미화 여전하다\n",
              "\n",
              "[5 rows x 7 columns]"
            ]
          },
          "metadata": {},
          "execution_count": 53
        }
      ]
    },
    {
      "cell_type": "code",
      "source": [
        "txt = '지금까지의 영화들이 그랬듯 이 영화 역시 일본에 대한 미화는 여전하다'\n",
        "pos = okt.pos(txt)\n",
        "print(pos)"
      ],
      "metadata": {
        "colab": {
          "base_uri": "https://localhost:8080/"
        },
        "id": "ACAQ14KgY_Ky",
        "outputId": "b7f85630-fd9b-4b11-fc53-16beacfb5bb9"
      },
      "execution_count": 51,
      "outputs": [
        {
          "output_type": "stream",
          "name": "stdout",
          "text": [
            "[('지금', 'Noun'), ('까지의', 'Josa'), ('영화', 'Noun'), ('들', 'Suffix'), ('이', 'Josa'), ('그랬듯', 'Adjective'), ('이', 'Noun'), ('영화', 'Noun'), ('역시', 'Noun'), ('일본', 'Noun'), ('에', 'Josa'), ('대한', 'Noun'), ('미화', 'Noun'), ('는', 'Josa'), ('여전하다', 'Adjective')]\n"
          ]
        }
      ]
    },
    {
      "cell_type": "code",
      "source": [
        "for max_features in range(100, 10000, 100):\n",
        "#max_features = 7100\n",
        "  vectorizer = TfidfVectorizer(min_df=0.0, analyzer=\"char\", sublinear_tf=True, ngram_range=(1, 3), max_features=max_features)\n",
        "\n",
        "  X = data['main_pos']\n",
        "  y = np.array(data.label)\n",
        "\n",
        "  train, val, y_train, y_eval = train_test_split(X, y, test_size=0.2, random_state=2)\n",
        "\n",
        "  X_train = vectorizer.fit_transform(train)\n",
        "  X_eval = vectorizer.transform(val)\n",
        "  lgs = LogisticRegression(class_weight='balanced')\n",
        "  lgs.fit(X_train, y_train)\n",
        "  predicted = lgs.predict(X_eval)\n",
        "  print(f\"max_features: {max_features}, Accuracy: {lgs.score(X_eval, y_eval)}\" )"
      ],
      "metadata": {
        "colab": {
          "base_uri": "https://localhost:8080/"
        },
        "id": "1tU7BExJ7C6H",
        "outputId": "a63d754d-047b-489d-c503-7954b8f7c442"
      },
      "execution_count": 54,
      "outputs": [
        {
          "output_type": "stream",
          "name": "stdout",
          "text": [
            "max_features: 100, Accuracy: 0.705\n",
            "max_features: 200, Accuracy: 0.734\n",
            "max_features: 300, Accuracy: 0.754\n",
            "max_features: 400, Accuracy: 0.779\n",
            "max_features: 500, Accuracy: 0.786\n",
            "max_features: 600, Accuracy: 0.798\n",
            "max_features: 700, Accuracy: 0.797\n",
            "max_features: 800, Accuracy: 0.807\n",
            "max_features: 900, Accuracy: 0.818\n",
            "max_features: 1000, Accuracy: 0.819\n",
            "max_features: 1100, Accuracy: 0.835\n",
            "max_features: 1200, Accuracy: 0.831\n",
            "max_features: 1300, Accuracy: 0.837\n",
            "max_features: 1400, Accuracy: 0.841\n",
            "max_features: 1500, Accuracy: 0.846\n",
            "max_features: 1600, Accuracy: 0.853\n",
            "max_features: 1700, Accuracy: 0.851\n",
            "max_features: 1800, Accuracy: 0.854\n",
            "max_features: 1900, Accuracy: 0.855\n",
            "max_features: 2000, Accuracy: 0.856\n",
            "max_features: 2100, Accuracy: 0.857\n",
            "max_features: 2200, Accuracy: 0.858\n",
            "max_features: 2300, Accuracy: 0.859\n",
            "max_features: 2400, Accuracy: 0.861\n",
            "max_features: 2500, Accuracy: 0.858\n",
            "max_features: 2600, Accuracy: 0.861\n",
            "max_features: 2700, Accuracy: 0.86\n",
            "max_features: 2800, Accuracy: 0.86\n",
            "max_features: 2900, Accuracy: 0.862\n",
            "max_features: 3000, Accuracy: 0.862\n",
            "max_features: 3100, Accuracy: 0.862\n",
            "max_features: 3200, Accuracy: 0.864\n",
            "max_features: 3300, Accuracy: 0.861\n",
            "max_features: 3400, Accuracy: 0.862\n",
            "max_features: 3500, Accuracy: 0.863\n",
            "max_features: 3600, Accuracy: 0.864\n",
            "max_features: 3700, Accuracy: 0.867\n",
            "max_features: 3800, Accuracy: 0.866\n",
            "max_features: 3900, Accuracy: 0.865\n",
            "max_features: 4000, Accuracy: 0.868\n",
            "max_features: 4100, Accuracy: 0.869\n",
            "max_features: 4200, Accuracy: 0.87\n",
            "max_features: 4300, Accuracy: 0.872\n",
            "max_features: 4400, Accuracy: 0.872\n",
            "max_features: 4500, Accuracy: 0.871\n",
            "max_features: 4600, Accuracy: 0.87\n",
            "max_features: 4700, Accuracy: 0.872\n",
            "max_features: 4800, Accuracy: 0.871\n",
            "max_features: 4900, Accuracy: 0.873\n",
            "max_features: 5000, Accuracy: 0.873\n",
            "max_features: 5100, Accuracy: 0.871\n",
            "max_features: 5200, Accuracy: 0.873\n",
            "max_features: 5300, Accuracy: 0.873\n",
            "max_features: 5400, Accuracy: 0.872\n",
            "max_features: 5500, Accuracy: 0.872\n",
            "max_features: 5600, Accuracy: 0.873\n",
            "max_features: 5700, Accuracy: 0.873\n",
            "max_features: 5800, Accuracy: 0.873\n",
            "max_features: 5900, Accuracy: 0.873\n",
            "max_features: 6000, Accuracy: 0.873\n",
            "max_features: 6100, Accuracy: 0.873\n",
            "max_features: 6200, Accuracy: 0.873\n",
            "max_features: 6300, Accuracy: 0.873\n",
            "max_features: 6400, Accuracy: 0.872\n",
            "max_features: 6500, Accuracy: 0.872\n",
            "max_features: 6600, Accuracy: 0.872\n",
            "max_features: 6700, Accuracy: 0.873\n",
            "max_features: 6800, Accuracy: 0.872\n",
            "max_features: 6900, Accuracy: 0.871\n",
            "max_features: 7000, Accuracy: 0.87\n",
            "max_features: 7100, Accuracy: 0.869\n",
            "max_features: 7200, Accuracy: 0.869\n",
            "max_features: 7300, Accuracy: 0.87\n",
            "max_features: 7400, Accuracy: 0.87\n",
            "max_features: 7500, Accuracy: 0.871\n",
            "max_features: 7600, Accuracy: 0.872\n",
            "max_features: 7700, Accuracy: 0.873\n",
            "max_features: 7800, Accuracy: 0.873\n",
            "max_features: 7900, Accuracy: 0.872\n",
            "max_features: 8000, Accuracy: 0.874\n",
            "max_features: 8100, Accuracy: 0.873\n",
            "max_features: 8200, Accuracy: 0.872\n",
            "max_features: 8300, Accuracy: 0.872\n",
            "max_features: 8400, Accuracy: 0.872\n",
            "max_features: 8500, Accuracy: 0.872\n",
            "max_features: 8600, Accuracy: 0.872\n",
            "max_features: 8700, Accuracy: 0.872\n",
            "max_features: 8800, Accuracy: 0.872\n",
            "max_features: 8900, Accuracy: 0.872\n",
            "max_features: 9000, Accuracy: 0.871\n",
            "max_features: 9100, Accuracy: 0.871\n",
            "max_features: 9200, Accuracy: 0.871\n",
            "max_features: 9300, Accuracy: 0.871\n",
            "max_features: 9400, Accuracy: 0.871\n",
            "max_features: 9500, Accuracy: 0.872\n",
            "max_features: 9600, Accuracy: 0.874\n",
            "max_features: 9700, Accuracy: 0.874\n",
            "max_features: 9800, Accuracy: 0.874\n",
            "max_features: 9900, Accuracy: 0.874\n"
          ]
        }
      ]
    },
    {
      "cell_type": "code",
      "source": [
        "#val = pd.DataFrame(val)\n",
        "#val.loc[:,'label'] = predicted\n",
        "#val.loc[:,'answer'] = y_eval"
      ],
      "metadata": {
        "id": "IybheaNBHs0w"
      },
      "execution_count": 33,
      "outputs": []
    },
    {
      "cell_type": "code",
      "source": [
        "out = val[val['label']!=val['answer']]\n",
        "out.to_csv(\"wrong.csv\", index = False)"
      ],
      "metadata": {
        "id": "UVFgQl5DIJyI"
      },
      "execution_count": null,
      "outputs": []
    },
    {
      "cell_type": "code",
      "source": [
        "y_eval = np.array(val.label)\n",
        "print(f\"Accuracy: {lgs.score(X_eval, y_eval)}\" )"
      ],
      "metadata": {
        "colab": {
          "base_uri": "https://localhost:8080/",
          "height": 317
        },
        "id": "KmpvU1Y35qqV",
        "outputId": "c7e3419f-3808-4ae8-a599-65a2eef040cf"
      },
      "execution_count": 37,
      "outputs": [
        {
          "output_type": "error",
          "ename": "AttributeError",
          "evalue": "ignored",
          "traceback": [
            "\u001b[0;31m---------------------------------------------------------------------------\u001b[0m",
            "\u001b[0;31mAttributeError\u001b[0m                            Traceback (most recent call last)",
            "\u001b[0;32m<ipython-input-37-54e04cc731d8>\u001b[0m in \u001b[0;36m<module>\u001b[0;34m()\u001b[0m\n\u001b[0;32m----> 1\u001b[0;31m \u001b[0my_eval\u001b[0m \u001b[0;34m=\u001b[0m \u001b[0mnp\u001b[0m\u001b[0;34m.\u001b[0m\u001b[0marray\u001b[0m\u001b[0;34m(\u001b[0m\u001b[0mval\u001b[0m\u001b[0;34m.\u001b[0m\u001b[0mlabel\u001b[0m\u001b[0;34m)\u001b[0m\u001b[0;34m\u001b[0m\u001b[0;34m\u001b[0m\u001b[0m\n\u001b[0m\u001b[1;32m      2\u001b[0m \u001b[0mprint\u001b[0m\u001b[0;34m(\u001b[0m\u001b[0;34mf\"Accuracy: {lgs.score(X_eval, y_eval)}\"\u001b[0m \u001b[0;34m)\u001b[0m\u001b[0;34m\u001b[0m\u001b[0;34m\u001b[0m\u001b[0m\n",
            "\u001b[0;32m/usr/local/lib/python3.7/dist-packages/pandas/core/generic.py\u001b[0m in \u001b[0;36m__getattr__\u001b[0;34m(self, name)\u001b[0m\n\u001b[1;32m   5139\u001b[0m             \u001b[0;32mif\u001b[0m \u001b[0mself\u001b[0m\u001b[0;34m.\u001b[0m\u001b[0m_info_axis\u001b[0m\u001b[0;34m.\u001b[0m\u001b[0m_can_hold_identifiers_and_holds_name\u001b[0m\u001b[0;34m(\u001b[0m\u001b[0mname\u001b[0m\u001b[0;34m)\u001b[0m\u001b[0;34m:\u001b[0m\u001b[0;34m\u001b[0m\u001b[0;34m\u001b[0m\u001b[0m\n\u001b[1;32m   5140\u001b[0m                 \u001b[0;32mreturn\u001b[0m \u001b[0mself\u001b[0m\u001b[0;34m[\u001b[0m\u001b[0mname\u001b[0m\u001b[0;34m]\u001b[0m\u001b[0;34m\u001b[0m\u001b[0;34m\u001b[0m\u001b[0m\n\u001b[0;32m-> 5141\u001b[0;31m             \u001b[0;32mreturn\u001b[0m \u001b[0mobject\u001b[0m\u001b[0;34m.\u001b[0m\u001b[0m__getattribute__\u001b[0m\u001b[0;34m(\u001b[0m\u001b[0mself\u001b[0m\u001b[0;34m,\u001b[0m \u001b[0mname\u001b[0m\u001b[0;34m)\u001b[0m\u001b[0;34m\u001b[0m\u001b[0;34m\u001b[0m\u001b[0m\n\u001b[0m\u001b[1;32m   5142\u001b[0m \u001b[0;34m\u001b[0m\u001b[0m\n\u001b[1;32m   5143\u001b[0m     \u001b[0;32mdef\u001b[0m \u001b[0m__setattr__\u001b[0m\u001b[0;34m(\u001b[0m\u001b[0mself\u001b[0m\u001b[0;34m,\u001b[0m \u001b[0mname\u001b[0m\u001b[0;34m:\u001b[0m \u001b[0mstr\u001b[0m\u001b[0;34m,\u001b[0m \u001b[0mvalue\u001b[0m\u001b[0;34m)\u001b[0m \u001b[0;34m->\u001b[0m \u001b[0;32mNone\u001b[0m\u001b[0;34m:\u001b[0m\u001b[0;34m\u001b[0m\u001b[0;34m\u001b[0m\u001b[0m\n",
            "\u001b[0;31mAttributeError\u001b[0m: 'Series' object has no attribute 'label'"
          ]
        }
      ]
    },
    {
      "cell_type": "code",
      "source": [
        "txt = '최우식 참 연기 잘하는 배우구나 라는 걸 느끼게 해 준 영화\t'\n",
        "tokens = okt.morphs(sentence, stem = True)\n",
        "pos = okt.pos(txt)\n",
        "print(tokens)\n",
        "print(pos)"
      ],
      "metadata": {
        "colab": {
          "base_uri": "https://localhost:8080/"
        },
        "id": "tK6xPhdd6irX",
        "outputId": "196b539b-08c7-490a-d292-b7b12239218a"
      },
      "execution_count": null,
      "outputs": [
        {
          "output_type": "stream",
          "name": "stdout",
          "text": [
            "['여', '주인공', '이', '전작', '에서는', '귀엽다', '여', '기선', '완전', '망하다', '실망', '이다']\n",
            "[('최우식', 'Noun'), ('참', 'Verb'), ('연기', 'Noun'), ('잘', 'VerbPrefix'), ('하는', 'Verb'), ('배우구나', 'Verb'), ('라는', 'Josa'), ('걸', 'Noun'), ('느끼게', 'Verb'), ('해', 'Noun'), ('준', 'Noun'), ('영화', 'Noun'), ('\\t', 'Foreign')]\n"
          ]
        }
      ]
    },
    {
      "cell_type": "code",
      "source": [
        "#Random Forest Classifier\n",
        "from sklearn.ensemble import RandomForestClassifier\n",
        "\n",
        "for max_features in range(100, 10000, 100):\n",
        "#max_features = 7100\n",
        "  vectorizer = TfidfVectorizer(min_df=0.0, analyzer=\"char\", sublinear_tf=True, ngram_range=(1, 3), max_features=max_features)\n",
        "\n",
        "  X = data['main_pos']\n",
        "  y = np.array(data.label)\n",
        "\n",
        "  train, val, y_train, y_eval = train_test_split(X, y, test_size=0.2, random_state=2)\n",
        "\n",
        "  X_train = vectorizer.fit_transform(train)\n",
        "  X_eval = vectorizer.transform(val)\n",
        "  forest = RandomForestClassifier(n_estimators = 100, random_state = 2022)\n",
        "  forest = forest.fit(X_train, y_train)\n",
        "\n",
        "  predicted = forest.predict(X_eval)\n",
        "  print(f\"max_features: {max_features}, Accuracy: {forest.score(X_eval, y_eval)}\" )"
      ],
      "metadata": {
        "id": "2ZlVVPOAMvoP",
        "colab": {
          "base_uri": "https://localhost:8080/"
        },
        "outputId": "73e17e2b-fa3b-46a4-822a-2432cf635d73"
      },
      "execution_count": 56,
      "outputs": [
        {
          "output_type": "stream",
          "name": "stdout",
          "text": [
            "max_features: 100, Accuracy: 0.708\n",
            "max_features: 200, Accuracy: 0.749\n",
            "max_features: 300, Accuracy: 0.74\n",
            "max_features: 400, Accuracy: 0.769\n",
            "max_features: 500, Accuracy: 0.774\n",
            "max_features: 600, Accuracy: 0.778\n",
            "max_features: 700, Accuracy: 0.794\n",
            "max_features: 800, Accuracy: 0.801\n",
            "max_features: 900, Accuracy: 0.805\n",
            "max_features: 1000, Accuracy: 0.805\n",
            "max_features: 1100, Accuracy: 0.816\n",
            "max_features: 1200, Accuracy: 0.822\n",
            "max_features: 1300, Accuracy: 0.824\n",
            "max_features: 1400, Accuracy: 0.825\n",
            "max_features: 1500, Accuracy: 0.823\n",
            "max_features: 1600, Accuracy: 0.836\n",
            "max_features: 1700, Accuracy: 0.824\n",
            "max_features: 1800, Accuracy: 0.821\n",
            "max_features: 1900, Accuracy: 0.821\n",
            "max_features: 2000, Accuracy: 0.824\n",
            "max_features: 2100, Accuracy: 0.826\n",
            "max_features: 2200, Accuracy: 0.83\n",
            "max_features: 2300, Accuracy: 0.829\n",
            "max_features: 2400, Accuracy: 0.842\n",
            "max_features: 2500, Accuracy: 0.828\n",
            "max_features: 2600, Accuracy: 0.839\n",
            "max_features: 2700, Accuracy: 0.834\n",
            "max_features: 2800, Accuracy: 0.83\n",
            "max_features: 2900, Accuracy: 0.832\n",
            "max_features: 3000, Accuracy: 0.833\n",
            "max_features: 3100, Accuracy: 0.826\n",
            "max_features: 3200, Accuracy: 0.83\n",
            "max_features: 3300, Accuracy: 0.835\n",
            "max_features: 3400, Accuracy: 0.836\n",
            "max_features: 3500, Accuracy: 0.831\n",
            "max_features: 3600, Accuracy: 0.832\n",
            "max_features: 3700, Accuracy: 0.833\n",
            "max_features: 3800, Accuracy: 0.831\n",
            "max_features: 3900, Accuracy: 0.846\n",
            "max_features: 4000, Accuracy: 0.843\n",
            "max_features: 4100, Accuracy: 0.833\n",
            "max_features: 4200, Accuracy: 0.848\n",
            "max_features: 4300, Accuracy: 0.829\n",
            "max_features: 4400, Accuracy: 0.839\n",
            "max_features: 4500, Accuracy: 0.84\n",
            "max_features: 4600, Accuracy: 0.846\n",
            "max_features: 4700, Accuracy: 0.839\n",
            "max_features: 4800, Accuracy: 0.831\n",
            "max_features: 4900, Accuracy: 0.835\n",
            "max_features: 5000, Accuracy: 0.834\n",
            "max_features: 5100, Accuracy: 0.844\n",
            "max_features: 5200, Accuracy: 0.843\n",
            "max_features: 5300, Accuracy: 0.838\n",
            "max_features: 5400, Accuracy: 0.839\n",
            "max_features: 5500, Accuracy: 0.846\n",
            "max_features: 5600, Accuracy: 0.843\n",
            "max_features: 5700, Accuracy: 0.829\n",
            "max_features: 5800, Accuracy: 0.837\n",
            "max_features: 5900, Accuracy: 0.839\n",
            "max_features: 6000, Accuracy: 0.832\n",
            "max_features: 6100, Accuracy: 0.848\n",
            "max_features: 6200, Accuracy: 0.839\n",
            "max_features: 6300, Accuracy: 0.837\n",
            "max_features: 6400, Accuracy: 0.842\n",
            "max_features: 6500, Accuracy: 0.838\n",
            "max_features: 6600, Accuracy: 0.832\n",
            "max_features: 6700, Accuracy: 0.831\n",
            "max_features: 6800, Accuracy: 0.842\n",
            "max_features: 6900, Accuracy: 0.84\n",
            "max_features: 7000, Accuracy: 0.84\n",
            "max_features: 7100, Accuracy: 0.842\n",
            "max_features: 7200, Accuracy: 0.85\n",
            "max_features: 7300, Accuracy: 0.846\n",
            "max_features: 7400, Accuracy: 0.84\n",
            "max_features: 7500, Accuracy: 0.844\n",
            "max_features: 7600, Accuracy: 0.841\n",
            "max_features: 7700, Accuracy: 0.828\n",
            "max_features: 7800, Accuracy: 0.847\n",
            "max_features: 7900, Accuracy: 0.843\n",
            "max_features: 8000, Accuracy: 0.838\n",
            "max_features: 8100, Accuracy: 0.832\n",
            "max_features: 8200, Accuracy: 0.836\n",
            "max_features: 8300, Accuracy: 0.833\n",
            "max_features: 8400, Accuracy: 0.845\n",
            "max_features: 8500, Accuracy: 0.845\n",
            "max_features: 8600, Accuracy: 0.844\n",
            "max_features: 8700, Accuracy: 0.836\n",
            "max_features: 8800, Accuracy: 0.836\n",
            "max_features: 8900, Accuracy: 0.842\n",
            "max_features: 9000, Accuracy: 0.836\n",
            "max_features: 9100, Accuracy: 0.843\n",
            "max_features: 9200, Accuracy: 0.832\n",
            "max_features: 9300, Accuracy: 0.846\n",
            "max_features: 9400, Accuracy: 0.848\n",
            "max_features: 9500, Accuracy: 0.841\n",
            "max_features: 9600, Accuracy: 0.846\n",
            "max_features: 9700, Accuracy: 0.848\n",
            "max_features: 9800, Accuracy: 0.843\n",
            "max_features: 9900, Accuracy: 0.844\n"
          ]
        }
      ]
    },
    {
      "cell_type": "code",
      "source": [
        "#Support Vector Machine\n",
        "from sklearn import svm\n",
        "\n",
        "for max_features in range(100, 10000, 100):\n",
        "#max_features = 7100\n",
        "  vectorizer = TfidfVectorizer(min_df=0.0, analyzer=\"char\", sublinear_tf=True, ngram_range=(1, 3), max_features=max_features)\n",
        "\n",
        "  X = data['main_pos']\n",
        "  y = np.array(data.label)\n",
        "\n",
        "  train, val, y_train, y_eval = train_test_split(X, y, test_size=0.2, random_state=2)\n",
        "\n",
        "  X_train = vectorizer.fit_transform(train)\n",
        "  X_eval = vectorizer.transform(val)\n",
        "  clf = svm.SVC()\n",
        "  clf = clf.fit(X_train, y_train)\n",
        "\n",
        "  predicted = clf.predict(X_eval)\n",
        "  print(f\"max_features: {max_features}, Accuracy: {clf.score(X_eval, y_eval)}\" )"
      ],
      "metadata": {
        "colab": {
          "base_uri": "https://localhost:8080/"
        },
        "id": "yScjCUypwjns",
        "outputId": "183fcee0-0525-45cc-eb0a-61b630ab2438"
      },
      "execution_count": 61,
      "outputs": [
        {
          "output_type": "stream",
          "name": "stdout",
          "text": [
            "max_features: 100, Accuracy: 0.73\n",
            "max_features: 200, Accuracy: 0.754\n",
            "max_features: 300, Accuracy: 0.778\n",
            "max_features: 400, Accuracy: 0.791\n",
            "max_features: 500, Accuracy: 0.805\n",
            "max_features: 600, Accuracy: 0.81\n",
            "max_features: 700, Accuracy: 0.817\n",
            "max_features: 800, Accuracy: 0.826\n",
            "max_features: 900, Accuracy: 0.833\n",
            "max_features: 1000, Accuracy: 0.836\n",
            "max_features: 1100, Accuracy: 0.841\n",
            "max_features: 1200, Accuracy: 0.845\n",
            "max_features: 1300, Accuracy: 0.85\n",
            "max_features: 1400, Accuracy: 0.851\n",
            "max_features: 1500, Accuracy: 0.848\n",
            "max_features: 1600, Accuracy: 0.856\n",
            "max_features: 1700, Accuracy: 0.861\n",
            "max_features: 1800, Accuracy: 0.866\n",
            "max_features: 1900, Accuracy: 0.866\n",
            "max_features: 2000, Accuracy: 0.863\n",
            "max_features: 2100, Accuracy: 0.861\n",
            "max_features: 2200, Accuracy: 0.862\n",
            "max_features: 2300, Accuracy: 0.863\n",
            "max_features: 2400, Accuracy: 0.865\n",
            "max_features: 2500, Accuracy: 0.865\n",
            "max_features: 2600, Accuracy: 0.871\n",
            "max_features: 2700, Accuracy: 0.872\n",
            "max_features: 2800, Accuracy: 0.873\n",
            "max_features: 2900, Accuracy: 0.873\n",
            "max_features: 3000, Accuracy: 0.867\n",
            "max_features: 3100, Accuracy: 0.87\n",
            "max_features: 3200, Accuracy: 0.87\n",
            "max_features: 3300, Accuracy: 0.872\n",
            "max_features: 3400, Accuracy: 0.875\n",
            "max_features: 3500, Accuracy: 0.877\n",
            "max_features: 3600, Accuracy: 0.878\n",
            "max_features: 3700, Accuracy: 0.879\n",
            "max_features: 3800, Accuracy: 0.881\n",
            "max_features: 3900, Accuracy: 0.882\n",
            "max_features: 4000, Accuracy: 0.881\n",
            "max_features: 4100, Accuracy: 0.882\n",
            "max_features: 4200, Accuracy: 0.883\n",
            "max_features: 4300, Accuracy: 0.885\n",
            "max_features: 4400, Accuracy: 0.881\n",
            "max_features: 4500, Accuracy: 0.88\n",
            "max_features: 4600, Accuracy: 0.88\n",
            "max_features: 4700, Accuracy: 0.884\n",
            "max_features: 4800, Accuracy: 0.885\n",
            "max_features: 4900, Accuracy: 0.885\n",
            "max_features: 5000, Accuracy: 0.885\n",
            "max_features: 5100, Accuracy: 0.888\n",
            "max_features: 5200, Accuracy: 0.883\n",
            "max_features: 5300, Accuracy: 0.885\n",
            "max_features: 5400, Accuracy: 0.886\n",
            "max_features: 5500, Accuracy: 0.884\n",
            "max_features: 5600, Accuracy: 0.885\n",
            "max_features: 5700, Accuracy: 0.888\n",
            "max_features: 5800, Accuracy: 0.887\n",
            "max_features: 5900, Accuracy: 0.887\n",
            "max_features: 6000, Accuracy: 0.885\n",
            "max_features: 6100, Accuracy: 0.884\n",
            "max_features: 6200, Accuracy: 0.884\n",
            "max_features: 6300, Accuracy: 0.885\n",
            "max_features: 6400, Accuracy: 0.884\n",
            "max_features: 6500, Accuracy: 0.883\n",
            "max_features: 6600, Accuracy: 0.883\n",
            "max_features: 6700, Accuracy: 0.88\n",
            "max_features: 6800, Accuracy: 0.881\n",
            "max_features: 6900, Accuracy: 0.88\n",
            "max_features: 7000, Accuracy: 0.88\n",
            "max_features: 7100, Accuracy: 0.88\n",
            "max_features: 7200, Accuracy: 0.88\n",
            "max_features: 7300, Accuracy: 0.883\n",
            "max_features: 7400, Accuracy: 0.882\n",
            "max_features: 7500, Accuracy: 0.884\n",
            "max_features: 7600, Accuracy: 0.887\n",
            "max_features: 7700, Accuracy: 0.886\n",
            "max_features: 7800, Accuracy: 0.886\n",
            "max_features: 7900, Accuracy: 0.886\n",
            "max_features: 8000, Accuracy: 0.886\n",
            "max_features: 8100, Accuracy: 0.886\n",
            "max_features: 8200, Accuracy: 0.887\n",
            "max_features: 8300, Accuracy: 0.887\n",
            "max_features: 8400, Accuracy: 0.887\n",
            "max_features: 8500, Accuracy: 0.886\n",
            "max_features: 8600, Accuracy: 0.886\n",
            "max_features: 8700, Accuracy: 0.887\n",
            "max_features: 8800, Accuracy: 0.887\n",
            "max_features: 8900, Accuracy: 0.885\n",
            "max_features: 9000, Accuracy: 0.886\n",
            "max_features: 9100, Accuracy: 0.885\n",
            "max_features: 9200, Accuracy: 0.886\n",
            "max_features: 9300, Accuracy: 0.882\n",
            "max_features: 9400, Accuracy: 0.884\n",
            "max_features: 9500, Accuracy: 0.883\n",
            "max_features: 9600, Accuracy: 0.884\n",
            "max_features: 9700, Accuracy: 0.882\n",
            "max_features: 9800, Accuracy: 0.884\n",
            "max_features: 9900, Accuracy: 0.884\n"
          ]
        }
      ]
    },
    {
      "cell_type": "code",
      "source": [
        "#띄어쓰기\n",
        "spacing = Spacing()\n",
        "spaced = spacing(\"아무래도 20년도지난작품이라 지금보기는너무유치하다\")\n",
        "print(spaced)"
      ],
      "metadata": {
        "colab": {
          "base_uri": "https://localhost:8080/"
        },
        "id": "AyjTzRpbU7KY",
        "outputId": "6d9d90a9-3327-45d0-a12a-dacb7d014396"
      },
      "execution_count": 4,
      "outputs": [
        {
          "output_type": "stream",
          "name": "stdout",
          "text": [
            "아무래도 20년도 지난 작품이라 지금 보기는 너무 유치하다\n"
          ]
        }
      ]
    },
    {
      "cell_type": "code",
      "source": [
        "data.sample(n=5)"
      ],
      "metadata": {
        "colab": {
          "base_uri": "https://localhost:8080/",
          "height": 206
        },
        "id": "hPFrvkimVq11",
        "outputId": "c1bb2446-8567-4520-b823-7b34ad208488"
      },
      "execution_count": 10,
      "outputs": [
        {
          "output_type": "execute_result",
          "data": {
            "text/html": [
              "\n",
              "  <div id=\"df-926cb2b4-338f-4a94-8b93-08ad3c771172\">\n",
              "    <div class=\"colab-df-container\">\n",
              "      <div>\n",
              "<style scoped>\n",
              "    .dataframe tbody tr th:only-of-type {\n",
              "        vertical-align: middle;\n",
              "    }\n",
              "\n",
              "    .dataframe tbody tr th {\n",
              "        vertical-align: top;\n",
              "    }\n",
              "\n",
              "    .dataframe thead th {\n",
              "        text-align: right;\n",
              "    }\n",
              "</style>\n",
              "<table border=\"1\" class=\"dataframe\">\n",
              "  <thead>\n",
              "    <tr style=\"text-align: right;\">\n",
              "      <th></th>\n",
              "      <th>id</th>\n",
              "      <th>document</th>\n",
              "      <th>label</th>\n",
              "    </tr>\n",
              "  </thead>\n",
              "  <tbody>\n",
              "    <tr>\n",
              "      <th>3484</th>\n",
              "      <td>3485</td>\n",
              "      <td>정말 다시 보고 싶지만... 구할수 없어서 더욱더 안타까운 영화</td>\n",
              "      <td>1</td>\n",
              "    </tr>\n",
              "    <tr>\n",
              "      <th>2863</th>\n",
              "      <td>2864</td>\n",
              "      <td>쫌 오글거리지만 다시봐도 재밌는 드라마</td>\n",
              "      <td>1</td>\n",
              "    </tr>\n",
              "    <tr>\n",
              "      <th>2469</th>\n",
              "      <td>2470</td>\n",
              "      <td>전작보다 더 치밀해진 액션과 코믹요소들. 흥미진진한 스토리</td>\n",
              "      <td>1</td>\n",
              "    </tr>\n",
              "    <tr>\n",
              "      <th>2909</th>\n",
              "      <td>2910</td>\n",
              "      <td>도대체가 뭔 영화여? 뭘 말하려는거여? OO!!!</td>\n",
              "      <td>0</td>\n",
              "    </tr>\n",
              "    <tr>\n",
              "      <th>2418</th>\n",
              "      <td>2419</td>\n",
              "      <td>2014년 필수 영화를 꼽으라면 그 중 하나로 꼽을!</td>\n",
              "      <td>1</td>\n",
              "    </tr>\n",
              "  </tbody>\n",
              "</table>\n",
              "</div>\n",
              "      <button class=\"colab-df-convert\" onclick=\"convertToInteractive('df-926cb2b4-338f-4a94-8b93-08ad3c771172')\"\n",
              "              title=\"Convert this dataframe to an interactive table.\"\n",
              "              style=\"display:none;\">\n",
              "        \n",
              "  <svg xmlns=\"http://www.w3.org/2000/svg\" height=\"24px\"viewBox=\"0 0 24 24\"\n",
              "       width=\"24px\">\n",
              "    <path d=\"M0 0h24v24H0V0z\" fill=\"none\"/>\n",
              "    <path d=\"M18.56 5.44l.94 2.06.94-2.06 2.06-.94-2.06-.94-.94-2.06-.94 2.06-2.06.94zm-11 1L8.5 8.5l.94-2.06 2.06-.94-2.06-.94L8.5 2.5l-.94 2.06-2.06.94zm10 10l.94 2.06.94-2.06 2.06-.94-2.06-.94-.94-2.06-.94 2.06-2.06.94z\"/><path d=\"M17.41 7.96l-1.37-1.37c-.4-.4-.92-.59-1.43-.59-.52 0-1.04.2-1.43.59L10.3 9.45l-7.72 7.72c-.78.78-.78 2.05 0 2.83L4 21.41c.39.39.9.59 1.41.59.51 0 1.02-.2 1.41-.59l7.78-7.78 2.81-2.81c.8-.78.8-2.07 0-2.86zM5.41 20L4 18.59l7.72-7.72 1.47 1.35L5.41 20z\"/>\n",
              "  </svg>\n",
              "      </button>\n",
              "      \n",
              "  <style>\n",
              "    .colab-df-container {\n",
              "      display:flex;\n",
              "      flex-wrap:wrap;\n",
              "      gap: 12px;\n",
              "    }\n",
              "\n",
              "    .colab-df-convert {\n",
              "      background-color: #E8F0FE;\n",
              "      border: none;\n",
              "      border-radius: 50%;\n",
              "      cursor: pointer;\n",
              "      display: none;\n",
              "      fill: #1967D2;\n",
              "      height: 32px;\n",
              "      padding: 0 0 0 0;\n",
              "      width: 32px;\n",
              "    }\n",
              "\n",
              "    .colab-df-convert:hover {\n",
              "      background-color: #E2EBFA;\n",
              "      box-shadow: 0px 1px 2px rgba(60, 64, 67, 0.3), 0px 1px 3px 1px rgba(60, 64, 67, 0.15);\n",
              "      fill: #174EA6;\n",
              "    }\n",
              "\n",
              "    [theme=dark] .colab-df-convert {\n",
              "      background-color: #3B4455;\n",
              "      fill: #D2E3FC;\n",
              "    }\n",
              "\n",
              "    [theme=dark] .colab-df-convert:hover {\n",
              "      background-color: #434B5C;\n",
              "      box-shadow: 0px 1px 3px 1px rgba(0, 0, 0, 0.15);\n",
              "      filter: drop-shadow(0px 1px 2px rgba(0, 0, 0, 0.3));\n",
              "      fill: #FFFFFF;\n",
              "    }\n",
              "  </style>\n",
              "\n",
              "      <script>\n",
              "        const buttonEl =\n",
              "          document.querySelector('#df-926cb2b4-338f-4a94-8b93-08ad3c771172 button.colab-df-convert');\n",
              "        buttonEl.style.display =\n",
              "          google.colab.kernel.accessAllowed ? 'block' : 'none';\n",
              "\n",
              "        async function convertToInteractive(key) {\n",
              "          const element = document.querySelector('#df-926cb2b4-338f-4a94-8b93-08ad3c771172');\n",
              "          const dataTable =\n",
              "            await google.colab.kernel.invokeFunction('convertToInteractive',\n",
              "                                                     [key], {});\n",
              "          if (!dataTable) return;\n",
              "\n",
              "          const docLinkHtml = 'Like what you see? Visit the ' +\n",
              "            '<a target=\"_blank\" href=https://colab.research.google.com/notebooks/data_table.ipynb>data table notebook</a>'\n",
              "            + ' to learn more about interactive tables.';\n",
              "          element.innerHTML = '';\n",
              "          dataTable['output_type'] = 'display_data';\n",
              "          await google.colab.output.renderOutput(dataTable, element);\n",
              "          const docLink = document.createElement('div');\n",
              "          docLink.innerHTML = docLinkHtml;\n",
              "          element.appendChild(docLink);\n",
              "        }\n",
              "      </script>\n",
              "    </div>\n",
              "  </div>\n",
              "  "
            ],
            "text/plain": [
              "        id                             document  label\n",
              "3484  3485  정말 다시 보고 싶지만... 구할수 없어서 더욱더 안타까운 영화      1\n",
              "2863  2864                쫌 오글거리지만 다시봐도 재밌는 드라마      1\n",
              "2469  2470     전작보다 더 치밀해진 액션과 코믹요소들. 흥미진진한 스토리      1\n",
              "2909  2910          도대체가 뭔 영화여? 뭘 말하려는거여? OO!!!      0\n",
              "2418  2419        2014년 필수 영화를 꼽으라면 그 중 하나로 꼽을!      1"
            ]
          },
          "metadata": {},
          "execution_count": 10
        }
      ]
    },
    {
      "cell_type": "code",
      "source": [
        ""
      ],
      "metadata": {
        "id": "87Jggls4WfWg"
      },
      "execution_count": null,
      "outputs": []
    }
  ]
}